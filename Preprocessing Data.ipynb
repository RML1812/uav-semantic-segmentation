{
 "cells": [
  {
   "cell_type": "markdown",
   "metadata": {},
   "source": [
    "# UAV Semantic Segmentation"
   ]
  },
  {
   "cell_type": "markdown",
   "metadata": {},
   "source": [
    "## Import Library"
   ]
  },
  {
   "cell_type": "code",
   "execution_count": 7,
   "metadata": {},
   "outputs": [],
   "source": [
    "import zipfile\n",
    "import os\n",
    "import shutil\n",
    "from PIL import Image"
   ]
  },
  {
   "cell_type": "markdown",
   "metadata": {},
   "source": [
    "## Data Collection"
   ]
  },
  {
   "cell_type": "markdown",
   "metadata": {},
   "source": [
    "Data that will be used comes from kaggle, the dataset is available to download at https://www.kaggle.com/datasets/humansintheloop/semantic-segmentation-of-aerial-imagery (also available in this repo as Semantic segmentation dataset.zip)."
   ]
  },
  {
   "cell_type": "markdown",
   "metadata": {},
   "source": [
    "## Preprocessing Data"
   ]
  },
  {
   "cell_type": "code",
   "execution_count": 8,
   "metadata": {},
   "outputs": [],
   "source": [
    "# Path\n",
    "zip_path = './Semantic segmentation dataset.zip'\n",
    "output_base_path = './dataset'"
   ]
  },
  {
   "cell_type": "code",
   "execution_count": 15,
   "metadata": {},
   "outputs": [],
   "source": [
    "# Function to resize images to height 420px while keeping aspect ratio and save with new names\n",
    "def process_and_rename(input_folder, output_folder, start_count, prefix):\n",
    "    count = start_count\n",
    "    for filename in os.listdir(input_folder):\n",
    "        file_path = os.path.join(input_folder, filename)\n",
    "        if filename.endswith(('.jpg', '.png', '.jpeg')):\n",
    "            # Open image\n",
    "            img = Image.open(file_path)\n",
    "\n",
    "            # Convert to RGB if the image is in 'P' or other modes\n",
    "            if img.mode != 'RGB':\n",
    "                img = img.convert('RGB')\n",
    "                \n",
    "            # Resize keeping aspect ratio\n",
    "            new_height = 420\n",
    "            width_percent = new_height / float(img.size[1])\n",
    "            new_width = int((float(img.size[0]) * float(width_percent)))\n",
    "            img_resized = img.resize((new_width, new_height), Image.ANTIALIAS)\n",
    "            \n",
    "            # Save as .jpg with a sequential name\n",
    "            output_path = os.path.join(output_folder, f\"{prefix}_{count:03d}.jpg\")\n",
    "            img_resized.save(output_path, 'JPEG')\n",
    "            \n",
    "            count += 1\n",
    "    return count"
   ]
  },
  {
   "cell_type": "code",
   "execution_count": 16,
   "metadata": {},
   "outputs": [],
   "source": [
    "# Function to extract images and masks, and save them to new directories\n",
    "def process_zip(zip_path, output_base_path):\n",
    "    with zipfile.ZipFile(zip_path, 'r') as zip_ref:\n",
    "        zip_ref.extractall(output_base_path)\n",
    "    \n",
    "    # Walking through the extracted folder to find images and masks\n",
    "    global tile_folders \n",
    "    tile_folders = [f for f in os.listdir(output_base_path) if os.path.isdir(os.path.join(output_base_path, f))]\n",
    "\n",
    "    # Output directories for images and masks\n",
    "    images_output_folder = os.path.join(output_base_path, \"images\")\n",
    "    masks_output_folder = os.path.join(output_base_path, \"masks\")\n",
    "    \n",
    "    os.makedirs(images_output_folder, exist_ok=True)\n",
    "    os.makedirs(masks_output_folder, exist_ok=True)\n",
    "    \n",
    "    count = 1\n",
    "    for tile_folder in tile_folders:\n",
    "        tile_path = os.path.join(output_base_path, tile_folder)\n",
    "        \n",
    "        images_folder = os.path.join(tile_path, \"images\")\n",
    "        masks_folder = os.path.join(tile_path, \"masks\")\n",
    "        \n",
    "        if not os.path.exists(images_folder) or not os.path.exists(masks_folder):\n",
    "            continue\n",
    "        \n",
    "        # Processing images and masks, saving them with sequential names\n",
    "        process_and_rename(images_folder, images_output_folder, count, prefix=\"image\")\n",
    "        count = process_and_rename(masks_folder, masks_output_folder, count, prefix=\"mask\")"
   ]
  },
  {
   "cell_type": "code",
   "execution_count": 17,
   "metadata": {},
   "outputs": [
    {
     "name": "stderr",
     "output_type": "stream",
     "text": [
      "C:\\Users\\Radit1812\\AppData\\Local\\Temp\\ipykernel_25204\\1818994217.py:18: DeprecationWarning: ANTIALIAS is deprecated and will be removed in Pillow 10 (2023-07-01). Use LANCZOS or Resampling.LANCZOS instead.\n",
      "  img_resized = img.resize((new_width, new_height), Image.ANTIALIAS)\n"
     ]
    }
   ],
   "source": [
    "# Running the function\n",
    "process_zip(zip_path, output_base_path)"
   ]
  },
  {
   "cell_type": "code",
   "execution_count": 18,
   "metadata": {},
   "outputs": [],
   "source": [
    "for folder in tile_folders:\n",
    "    shutil.rmtree(os.path.join(output_base_path, folder))\n",
    "\n",
    "os.remove(os.path.join(output_base_path, \"classes.json\"))"
   ]
  },
  {
   "cell_type": "markdown",
   "metadata": {},
   "source": [
    "## Conclusion"
   ]
  },
  {
   "cell_type": "markdown",
   "metadata": {},
   "source": [
    "The preprocessing results in unziping dataset, compile them into folder *images* and *masks*, **masks** acts as a **ground truth file**. The total sets are **72 images**"
   ]
  }
 ],
 "metadata": {
  "kernelspec": {
   "display_name": "Python 3",
   "language": "python",
   "name": "python3"
  },
  "language_info": {
   "codemirror_mode": {
    "name": "ipython",
    "version": 3
   },
   "file_extension": ".py",
   "mimetype": "text/x-python",
   "name": "python",
   "nbconvert_exporter": "python",
   "pygments_lexer": "ipython3",
   "version": "3.11.3"
  }
 },
 "nbformat": 4,
 "nbformat_minor": 2
}
